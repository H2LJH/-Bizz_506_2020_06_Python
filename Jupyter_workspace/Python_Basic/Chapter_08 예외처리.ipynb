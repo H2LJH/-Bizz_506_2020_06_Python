{
 "cells": [
  {
   "cell_type": "markdown",
   "metadata": {},
   "source": [
    "### **try-except-else-finaly**\n",
    "   + Python에서는 try-except-finaly\n",
    "   + java에서는 try-catch"
   ]
  },
  {
   "cell_type": "code",
   "execution_count": 8,
   "metadata": {},
   "outputs": [
    {
     "name": "stdout",
     "output_type": "stream",
     "text": [
      "no error\n",
      "무조건실행\n"
     ]
    }
   ],
   "source": [
    "from urllib.request import urlopen\n",
    "from urllib.request import HTTPError\n",
    "\n",
    "# 파이썬 예외처리\n",
    "# try / except / else / finally\n",
    "# try : 예외가 발생할 수도 있는 부분\n",
    "# except : 에외처리\n",
    "# else : 예외 발생하지 않았을 때 실행\n",
    "# finally : 예외에 상관없이 무조건 실행\n",
    "# 정상실행 : try -> else -> finally\n",
    "# 예외 실행 : try -> except -> fianlly\n",
    "\n",
    "try :\n",
    "      html = urlopen('http://www.naver.com')\n",
    "      #html = urlopen('http://www.nave2r1231.com')\n",
    "\n",
    "except HTTPError as e: \n",
    "    # pass를 입력하면 예외를 회피할수도 있음\n",
    "    print(e)\n",
    "    \n",
    "else :\n",
    "    print('no error')\n",
    "\n",
    "finally:\n",
    "    print('무조건실행')"
   ]
  },
  {
   "cell_type": "markdown",
   "metadata": {},
   "source": [
    "### **예외 만들기**\n",
    " \n",
    " + raise"
   ]
  },
  {
   "cell_type": "code",
   "execution_count": 16,
   "metadata": {},
   "outputs": [
    {
     "name": "stdout",
     "output_type": "stream",
     "text": [
      "천사\n",
      "혀용되지 않은 별명입니다.\n"
     ]
    }
   ],
   "source": [
    "class MyError(Exception):\n",
    "    pass\n",
    "\n",
    "def say_nick(nick):\n",
    "    if nick == '바보':\n",
    "         raise MyError()\n",
    "    print(nick)\n",
    "        \n",
    "try:        \n",
    "    say_nick('천사')        \n",
    "    say_nick('바보')  \n",
    "except MyError:\n",
    "        print('혀용되지 않은 별명입니다.')"
   ]
  },
  {
   "cell_type": "code",
   "execution_count": 18,
   "metadata": {},
   "outputs": [
    {
     "name": "stdout",
     "output_type": "stream",
     "text": [
      "천사\n",
      "혀용되지 않은 별명입니다.\n"
     ]
    }
   ],
   "source": [
    "class MyError(Exception):\n",
    "    def __str__(self):\n",
    "        return '혀용되지 않은 별명입니다.'\n",
    "\n",
    "def say_nick(nick):\n",
    "    if nick == '바보':\n",
    "         raise MyError()\n",
    "    print(nick)\n",
    "        \n",
    "try:        \n",
    "    say_nick('천사')        \n",
    "    say_nick('바보')  \n",
    "except MyError as e:\n",
    "        print(e)"
   ]
  }
 ],
 "metadata": {
  "kernelspec": {
   "display_name": "Python 3",
   "language": "python",
   "name": "python3"
  },
  "language_info": {
   "codemirror_mode": {
    "name": "ipython",
    "version": 3
   },
   "file_extension": ".py",
   "mimetype": "text/x-python",
   "name": "python",
   "nbconvert_exporter": "python",
   "pygments_lexer": "ipython3",
   "version": "3.7.6"
  }
 },
 "nbformat": 4,
 "nbformat_minor": 4
}
