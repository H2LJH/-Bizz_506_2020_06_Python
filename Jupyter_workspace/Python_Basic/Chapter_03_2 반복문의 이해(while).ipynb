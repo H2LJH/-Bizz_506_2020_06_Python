{
 "cells": [
  {
   "cell_type": "markdown",
   "metadata": {},
   "source": [
    "# Chapter 03_2 반복문의 이해(while)\n",
    "\n",
    " - Continue \n",
    " \n",
    "     continue를 만나면 continue 코드아래는 건너뛰고 다음번 반복문 실행\n",
    "     \n",
    "     \n",
    " - break\n",
    "     \n",
    "     break를 만나면 즉시 반복문 종료"
   ]
  },
  {
   "cell_type": "code",
   "execution_count": 2,
   "metadata": {},
   "outputs": [
    {
     "name": "stdout",
     "output_type": "stream",
     "text": [
      "value :  1 index :  0\n",
      "value :  10 index :  1\n",
      "value :  9 index :  2\n",
      "value :  24 index :  3\n",
      "End\n"
     ]
    }
   ],
   "source": [
    "a = [1, 10, 9, 24]\n",
    "index = 0 # index\n",
    "while index < len(a):\n",
    "    print('value : ', a[index], 'index : ', index)\n",
    "    index+=1\n",
    "    \n",
    "print('End')"
   ]
  },
  {
   "cell_type": "code",
   "execution_count": 3,
   "metadata": {},
   "outputs": [
    {
     "name": "stdout",
     "output_type": "stream",
     "text": [
      "5\n"
     ]
    }
   ],
   "source": [
    "# break;\n",
    "a = 0\n",
    "while True:\n",
    "    a+=1\n",
    "    if a == 5:\n",
    "        break\n",
    "    \n",
    "print(a) "
   ]
  },
  {
   "cell_type": "code",
   "execution_count": null,
   "metadata": {},
   "outputs": [],
   "source": [
    "# continue \n",
    "a = 0\n",
    "while a < 1:\n",
    "    continue # 무한반복\n",
    "    a+=1 "
   ]
  }
 ],
 "metadata": {
  "kernelspec": {
   "display_name": "Python 3",
   "language": "python",
   "name": "python3"
  },
  "language_info": {
   "codemirror_mode": {
    "name": "ipython",
    "version": 3
   },
   "file_extension": ".py",
   "mimetype": "text/x-python",
   "name": "python",
   "nbconvert_exporter": "python",
   "pygments_lexer": "ipython3",
   "version": "3.7.6"
  }
 },
 "nbformat": 4,
 "nbformat_minor": 4
}
