{
 "cells": [
  {
   "cell_type": "markdown",
   "metadata": {},
   "source": [
    "## 학습목표\n",
    "    - 조건문의 이해 및 활용(if)"
   ]
  },
  {
   "cell_type": "markdown",
   "metadata": {},
   "source": [
    "### condition(조건문)\n",
    "\n",
    "    - 특정 조건을 만족하는 경우에만 수행할 작업이 있는 경우 사용\n",
    "    - 모든 조건은 boolean으로 표현 됨 (예외 사항은 아래 배울 예정)\n",
    "    - if, elif, else 키워드가 사용\n",
    "    - 조건문의 경우 if, elif, else 블록에 종속된 코드는 들여쓰기로 표현 가능\n",
    "    \n",
    "```python\n",
    "a = 4\n",
    "b = 3\n",
    "if 4 == a :\n",
    "b = 4\n",
    "print(b) # 들여쓰기를 안하면 if 종료\n",
    "\n",
    "if a == 4\n",
    "    pass # 실행할 코드가 없음을 의미\n",
    "```    "
   ]
  },
  {
   "cell_type": "code",
   "execution_count": 24,
   "metadata": {},
   "outputs": [
    {
     "name": "stdout",
     "output_type": "stream",
     "text": [
      "5\n",
      "4 3\n",
      "6\n"
     ]
    }
   ],
   "source": [
    "# Test 1 \n",
    "a = 4\n",
    "b = 3\n",
    "if a == 4 :\n",
    "    b = 5\n",
    "print(b)    \n",
    "\n",
    "# Test 2\n",
    "a = 4\n",
    "b = 3 \n",
    "if a == 4:\n",
    "    pass # pass 주석처리 하면 error\n",
    "print(a,b)\n",
    "\n",
    "\n",
    "# Test 3\n",
    "a = 4\n",
    "if 4 == a :\n",
    "    a = 5\n",
    "    if a == 5:\n",
    "        a = 6\n",
    "print(a)\n"
   ]
  },
  {
   "cell_type": "markdown",
   "metadata": {},
   "source": [
    "## 논리 연산자"
   ]
  },
  {
   "cell_type": "code",
   "execution_count": 130,
   "metadata": {},
   "outputs": [
    {
     "name": "stdout",
     "output_type": "stream",
     "text": [
      "논리 연산자\n"
     ]
    }
   ],
   "source": [
    "a = 1 \n",
    "b = 2 \n",
    "c = 3\n",
    "     \n",
    "# Test \n",
    "if (a == 1 or b == 3) and c == 3:\n",
    "    print(\"논리 연산자\")"
   ]
  },
  {
   "cell_type": "markdown",
   "metadata": {},
   "source": [
    "###  if 조건이 bool이 아닌 경우\n",
    "\n",
    "    * 일반적으로 조건문에는 bool이 주로 위치함\n",
    "    * 하지만 정수, 실수, 문자열 리스트 등 기본 타입도 조건에 사용가능\n",
    "    * False로 간주되는값 (각 타입의 기본값)\n",
    "        * None \n",
    "        * 0 \n",
    "        * 0.0 \n",
    "        * '' \n",
    "        * []-> 빈 리스트 \n",
    "        * ()-> 빈 튜플 \n",
    "        * {}-> 빈 딕셔너리 \n",
    "        * set()->빈집합"
   ]
  },
  {
   "cell_type": "code",
   "execution_count": 45,
   "metadata": {},
   "outputs": [
    {
     "name": "stdout",
     "output_type": "stream",
     "text": [
      "False\n"
     ]
    }
   ],
   "source": [
    "# Test\n",
    "a\n",
    "# a = None\n",
    "# a = []\n",
    "# a = ()\n",
    "# a = {}\n",
    "if a :\n",
    "    print('True')\n",
    "    \n",
    "print('False')    \n",
    "    "
   ]
  },
  {
   "cell_type": "markdown",
   "metadata": {},
   "source": [
    "## if, else\n",
    "    - 주의 할점 : if와 else 사이에 다른 코드 삽입 불가"
   ]
  },
  {
   "cell_type": "code",
   "execution_count": 57,
   "metadata": {},
   "outputs": [
    {
     "ename": "SyntaxError",
     "evalue": "invalid syntax (<ipython-input-57-eed9eda489b8>, line 9)",
     "output_type": "error",
     "traceback": [
      "\u001b[1;36m  File \u001b[1;32m\"<ipython-input-57-eed9eda489b8>\"\u001b[1;36m, line \u001b[1;32m9\u001b[0m\n\u001b[1;33m    else :\u001b[0m\n\u001b[1;37m       ^\u001b[0m\n\u001b[1;31mSyntaxError\u001b[0m\u001b[1;31m:\u001b[0m invalid syntax\n"
     ]
    }
   ],
   "source": [
    "# Test\n",
    "a = 2\n",
    "\n",
    "if a == 2:\n",
    "     a = 3\n",
    "        \n",
    "print('ing') # Error 발생 \n",
    "\n",
    "else :\n",
    "     print(\"else\")\n",
    "        \n",
    "print(\"End\")        "
   ]
  },
  {
   "cell_type": "markdown",
   "metadata": {},
   "source": [
    "## elif  = elseif"
   ]
  },
  {
   "cell_type": "code",
   "execution_count": 92,
   "metadata": {},
   "outputs": [
    {
     "name": "stdout",
     "output_type": "stream",
     "text": [
      "in elif\n"
     ]
    }
   ],
   "source": [
    "a = 5\n",
    "if a % 2 == 0:\n",
    "    print('in if')\n",
    "elif a % 5 == 0:\n",
    "    print(\"in elif\")"
   ]
  },
  {
   "cell_type": "markdown",
   "metadata": {},
   "source": [
    "## while\n",
    " - Continue \n",
    " \n",
    "     continue를 만나면 continue 코드아래는 건너뛰고 다음번 반복문 실행\n",
    "     \n",
    "     \n",
    " - break\n",
    "     \n",
    "     break를 만나면 즉시 반복문 종료"
   ]
  },
  {
   "cell_type": "code",
   "execution_count": 115,
   "metadata": {},
   "outputs": [
    {
     "name": "stdout",
     "output_type": "stream",
     "text": [
      "value :  1 index :  0\n",
      "value :  10 index :  1\n",
      "value :  9 index :  2\n",
      "value :  24 index :  3\n",
      "End\n"
     ]
    }
   ],
   "source": [
    "a = [1, 10, 9, 24]\n",
    "index = 0 # index\n",
    "while index < len(a):\n",
    "    print('value : ', a[index], 'index : ', index)\n",
    "    index+=1\n",
    "    \n",
    "print('End')"
   ]
  },
  {
   "cell_type": "code",
   "execution_count": 123,
   "metadata": {},
   "outputs": [
    {
     "name": "stdout",
     "output_type": "stream",
     "text": [
      "5\n"
     ]
    }
   ],
   "source": [
    "# break;\n",
    "a = 0\n",
    "while True:\n",
    "    a+=1\n",
    "    if a == 5:\n",
    "        break\n",
    "    \n",
    "print(a) "
   ]
  },
  {
   "cell_type": "code",
   "execution_count": null,
   "metadata": {},
   "outputs": [],
   "source": [
    "# continue\n",
    "a = 0\n",
    "while a < 1:\n",
    "    continue\n",
    "    a+=1"
   ]
  }
 ],
 "metadata": {
  "kernelspec": {
   "display_name": "Python 3",
   "language": "python",
   "name": "python3"
  },
  "language_info": {
   "codemirror_mode": {
    "name": "ipython",
    "version": 3
   },
   "file_extension": ".py",
   "mimetype": "text/x-python",
   "name": "python",
   "nbconvert_exporter": "python",
   "pygments_lexer": "ipython3",
   "version": "3.7.6"
  }
 },
 "nbformat": 4,
 "nbformat_minor": 4
}
