{
 "cells": [
  {
   "cell_type": "markdown",
   "metadata": {},
   "source": [
    "### 학습 목표\n",
    "1. Python 언어에서 변수의 의미 이해하기\n",
    "2. 기본 데이터 타입 선언하기\n",
    " - 문자열(String)\n",
    " - 숫자(Number) = int, float\n",
    " - 불(Boolean)  = Ture, False\n",
    " \n",
    " "
   ]
  },
  {
   "cell_type": "markdown",
   "metadata": {},
   "source": [
    "### 기본 데이터 타입\n",
    "* variable deciaration & Value assignment (변수 선언 및 값 할당)"
   ]
  },
  {
   "cell_type": "markdown",
   "metadata": {},
   "source": [
    "###  대입 연산자 =, 비교 연산자 ==\n",
    "- 대입의 경우, 오른쪽의 수식이나 값을 evaluation(여기서는 계산이라는 의미로 사용)한 뒤, 왼쪽에 명시된 변수에 해당 값을 대입"
   ]
  },
  {
   "cell_type": "markdown",
   "metadata": {},
   "source": [
    "### **Comment(주석)**\n",
    "  -  // = #"
   ]
  },
  {
   "cell_type": "markdown",
   "metadata": {},
   "source": [
    "### **Print Funtion**\n",
    " - 함수란 특정 기능을 반복적으로 호출하요 사용하가능한 코드블럭\n",
    " - ex) print(a, b)\n",
    " \n",
    " \n",
    "#### Print Funtion 설정 \n",
    " - sep : 구분자, 각 출력할 변수 사이에서 구별하는 역할을 함\n",
    " - end : 마지막에 출력할 문자열"
   ]
  },
  {
   "cell_type": "markdown",
   "metadata": {},
   "source": [
    "### Java Code\n",
    "\n",
    "- String name \"살 체리\";\n",
    "- int age = 5;\n",
    "- System.out.println(age + name);\n",
    "- \"5살 체리\"\n",
    "\n",
    "### Python Code\n",
    "\n",
    "- name = \"살 체리\"\n",
    "\n",
    "- age = 5 \n",
    "\n",
    "- print(age + name) # Type Error\n",
    "\n",
    "- print(age, name)  \n",
    "\n",
    "- print('{ }살 체리'.format(age)"
   ]
  },
  {
   "cell_type": "markdown",
   "metadata": {},
   "source": [
    "### Jupyter에서 변수 값 확인법\n",
    "- print() 함수 사용\n",
    "- 변수 값을 코드의 마지막에 위치 시킨후 실행\n",
    "    - 이경우 output으로 변수의 값이 출력"
   ]
  },
  {
   "cell_type": "code",
   "execution_count": 11,
   "metadata": {},
   "outputs": [
    {
     "data": {
      "text/plain": [
       "6"
      ]
     },
     "execution_count": 11,
     "metadata": {},
     "output_type": "execute_result"
    }
   ],
   "source": [
    "a = 5\n",
    "b = 6\n",
    "a\n",
    "b # 가장 마지막 값만 출력\n",
    "# print(a,b)"
   ]
  },
  {
   "cell_type": "markdown",
   "metadata": {},
   "source": [
    "### Variable Naming(변수 이름 규칙)\n",
    "- 숫자로 시작하는 이름을 제외하고 영문 대소문자, _, 숫자로 구성가능\n",
    "- 아래의 예제는 모두 valid한 변수 이름\n",
    "- 일반적으로 해당 변수를 표현하고자 하는 정확하고 간결한 이름을 사용하는 것이 원칙\n",
    "    - 코드를 읽은 것을 더 쉽게 할 수 있음\n",
    "    - Ex) a = 1000 OR **student_num = 1000**가 변수 용도에 이해가 더 빠름"
   ]
  },
  {
   "cell_type": "markdown",
   "metadata": {},
   "source": [
    "### Naming Method\n",
    "\n",
    "- snake_case \n",
    "    - ex) str_name\n",
    "    \n",
    "    \n",
    "- CamelCase  \n",
    "    - ex) StrName\n",
    "\n",
    "\n",
    "- JAVA는 CamelCase만 사용\n",
    "    -   변수 : 첫글자 소문자, 합성어 첫글자 대문자\n",
    "    - 메서드 : 첫글자 소문자, 합성어 첫글자 대문자\n",
    "    - 클래스 : 첫글자 대문자, 합성어 첫글자 대문자\n",
    "    \n",
    "    \n",
    "- Python은 snake, Camel 모두 사용\n",
    "    -   변수 : snake\n",
    "    - 메서드 : snake\n",
    "    - 클래스 : camel\n",
    "    "
   ]
  },
  {
   "cell_type": "markdown",
   "metadata": {},
   "source": [
    "### 기본 데이터 타입\n",
    "- 정수 int\n",
    "- 실수 float\n",
    "- 문자열 str\n",
    "- 불리언 boolean\n",
    "> type() 함수를 사용하면 데이터의 자료형 확인 가능"
   ]
  },
  {
   "cell_type": "code",
   "execution_count": 17,
   "metadata": {},
   "outputs": [
    {
     "name": "stdout",
     "output_type": "stream",
     "text": [
      "<class 'int'>\n",
      "<class 'float'>\n",
      "<class 'bool'>\n",
      "<class 'str'>\n"
     ]
    }
   ],
   "source": [
    "a = 10\n",
    "b = 3.14\n",
    "c = True\n",
    "d = 'Hello'\n",
    "print(type(a))\n",
    "print(type(b))\n",
    "print(type(c))\n",
    "print(type(d))\n"
   ]
  },
  {
   "cell_type": "markdown",
   "metadata": {},
   "source": [
    "### **None**\n",
    "- NULL, nil 같은 의미"
   ]
  },
  {
   "cell_type": "markdown",
   "metadata": {},
   "source": [
    "### Numbers(숫자형 타입)\n",
    "- 수학의 기본 연산자(가감승제) 사용가능\n",
    "- ** 제곱"
   ]
  },
  {
   "cell_type": "markdown",
   "metadata": {},
   "source": [
    "### operator priorties(연산자 우선순위)\n",
    "- 기본적인 수학의 연산자와 동일\n",
    "- 강제로 연산을 선수하기 위해선, 괄호()를 사용"
   ]
  },
  {
   "cell_type": "code",
   "execution_count": 21,
   "metadata": {},
   "outputs": [
    {
     "name": "stdout",
     "output_type": "stream",
     "text": [
      "9\n",
      "6\n",
      "9\n"
     ]
    }
   ],
   "source": [
    "# 연습 문제\n",
    "\n",
    "# 1. 다음의 각 a값을 출력 했을때 결과는 ?\n",
    "a = 9\n",
    "print(a)\n",
    "print(a-3)\n",
    "print(a)\n",
    "\n",
    "# 답 : 9 // print() 함수의 매개변수로 a-3 넣었기 때문에 a의 값은 변함없이 9다."
   ]
  },
  {
   "cell_type": "markdown",
   "metadata": {},
   "source": [
    "### 형변환\n",
    "- str()   문자열 형변환\n",
    "- int()   정수형 형변환\n",
    "- float() 실수형 형변환"
   ]
  },
  {
   "cell_type": "code",
   "execution_count": 5,
   "metadata": {},
   "outputs": [
    {
     "name": "stdout",
     "output_type": "stream",
     "text": [
      "<class 'int'>\n",
      "<class 'str'>\n"
     ]
    }
   ],
   "source": [
    "a = 1\n",
    "print(type(a))\n",
    "\n",
    "b = str(a)\n",
    "print(type(b))"
   ]
  }
 ],
 "metadata": {
  "kernelspec": {
   "display_name": "Python 3",
   "language": "python",
   "name": "python3"
  },
  "language_info": {
   "codemirror_mode": {
    "name": "ipython",
    "version": 3
   },
   "file_extension": ".py",
   "mimetype": "text/x-python",
   "name": "python",
   "nbconvert_exporter": "python",
   "pygments_lexer": "ipython3",
   "version": "3.7.6"
  }
 },
 "nbformat": 4,
 "nbformat_minor": 4
}
