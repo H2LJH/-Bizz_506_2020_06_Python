{
 "cells": [
  {
   "cell_type": "markdown",
   "metadata": {},
   "source": [
    "## 학습 목표\n",
    "    1. dictionary, set에 대해 이해 및 실습"
   ]
  },
  {
   "cell_type": "markdown",
   "metadata": {},
   "source": [
    "### **dictionary** (가장 자주 사용)\n",
    "    + 키와 값을 갖는 데이터 구조\n",
    "    + 키는 내부적으로 hash값으로 저장\n",
    "    + 순서를 따지지 않음. 즉, 인덱스가 없음\n",
    "    \n",
    "    ※ 리스트는 원소의 개수가 아무리 많더라도 인덱스를 통해 접근히 때문에 접근시간이 매우 빠름\n",
    "    ※ 딕셔너리는 인덱스가 없지만 hash키를 통해서 접근할 수 있음"
   ]
  },
  {
   "cell_type": "code",
   "execution_count": 15,
   "metadata": {},
   "outputs": [
    {
     "name": "stdout",
     "output_type": "stream",
     "text": [
      "1\n"
     ]
    }
   ],
   "source": [
    "a = { 'name' : 'a',\n",
    "       'age' : 10,\n",
    "       'tel' : '01012345678'\n",
    "     }\n",
    "b = {0:1, 1:6, 7:9, 8:2}\n",
    "\n",
    "print(b[0])"
   ]
  },
  {
   "cell_type": "markdown",
   "metadata": {},
   "source": [
    "## **항목 추가 및 변경**\n",
    "    - 기존에 키가 존재 하면, 새로운 값으로 업데이트(동일한 키 중복으로 존재 불가-유일성)\n",
    "    - 존재하지 않으면 새로운 키,값 생성"
   ]
  },
  {
   "cell_type": "code",
   "execution_count": 20,
   "metadata": {},
   "outputs": [
    {
     "name": "stdout",
     "output_type": "stream",
     "text": [
      "{'Korea': 'Seoul', 'Canada': 'Ottawa', 'USA': 'Washington D.C', 'Japan': 'Osaka', 'Japan2': 'Kyoto'}\n"
     ]
    }
   ],
   "source": [
    "a = { 'Korea'  : 'Seoul',\n",
    "      'Canada' :  'Ottawa',\n",
    "       'USA'   : 'Washington D.C'\n",
    "     }\n",
    "a['Japan']  = 'Tokyo'\n",
    "a['Japan2'] = 'Kyoto'\n",
    "a['Japan']  = 'Osaka'\n",
    "print(a)"
   ]
  },
  {
   "cell_type": "markdown",
   "metadata": {},
   "source": [
    "## **update()**\n",
    "    * 두 딕셔너리를 병합함\n",
    "    * 겹치는 키가 있다면 parameter로 전달되는 키 값이 overwrte된다."
   ]
  },
  {
   "cell_type": "code",
   "execution_count": 22,
   "metadata": {},
   "outputs": [
    {
     "name": "stdout",
     "output_type": "stream",
     "text": [
      "{'a': 1, 'b': 2, 'c': 3, 'q': 4, 'w': 5}\n"
     ]
    }
   ],
   "source": [
    "a = {'a' : 1, 'b' : 2 , 'c' : 3}\n",
    "b = {'a' : 1, 'q' : 4 , 'w' : 5}\n",
    "\n",
    "a.update(b)\n",
    "print(a)"
   ]
  },
  {
   "cell_type": "markdown",
   "metadata": {},
   "source": [
    "## **key 삭제**\n",
    "- del 키워드 사용 (범용적으로 삭제)\n",
    "- pop 함수이용"
   ]
  },
  {
   "cell_type": "code",
   "execution_count": 25,
   "metadata": {},
   "outputs": [
    {
     "name": "stdout",
     "output_type": "stream",
     "text": [
      "{'a': 1, 'b': 2, 'c': 3}\n",
      "{'a': 1, 'c': 3}\n"
     ]
    }
   ],
   "source": [
    "a = {'a' : 1, 'b' : 2 ,'c' : 3}\n",
    "print(a)\n",
    "\n",
    "# a.pop('b')      \n",
    "del a['b']\n",
    "print(a)"
   ]
  },
  {
   "cell_type": "markdown",
   "metadata": {},
   "source": [
    "## **clear()**\n",
    "    + 딕셔너리의 모든 값을 초기화"
   ]
  },
  {
   "cell_type": "code",
   "execution_count": 28,
   "metadata": {},
   "outputs": [
    {
     "name": "stdout",
     "output_type": "stream",
     "text": [
      "{}\n",
      "{}\n"
     ]
    }
   ],
   "source": [
    "print(a)\n",
    "a.clear()\n",
    "print(a)"
   ]
  },
  {
   "cell_type": "markdown",
   "metadata": {},
   "source": [
    "## **in**\n",
    "    + key 값 존재 확인\n",
    "    + O(1) 연산 (크기와 관계 없이 연산 속도가 항상 일정함)"
   ]
  },
  {
   "cell_type": "code",
   "execution_count": 33,
   "metadata": {},
   "outputs": [
    {
     "name": "stdout",
     "output_type": "stream",
     "text": [
      "True\n",
      "False\n"
     ]
    }
   ],
   "source": [
    "a = {'a' : 1, 'b' : 2, 'c' : 3}\n",
    "b = {1, 2, 3, 4, 5}\n",
    "\n",
    "print(5 in b)\n",
    "print(2 in a)"
   ]
  },
  {
   "cell_type": "markdown",
   "metadata": {},
   "source": [
    "## **value access**\n",
    "    + dict[key]로 접근, 키가 없는 경우 에러 발생\n",
    "    + get() 함수로 접근, 키가 없는 경우 None 반환"
   ]
  },
  {
   "cell_type": "code",
   "execution_count": 37,
   "metadata": {},
   "outputs": [
    {
     "name": "stdout",
     "output_type": "stream",
     "text": [
      "3\n",
      "3\n",
      "3\n"
     ]
    }
   ],
   "source": [
    "a = {'a' : 1, 'b' : 2, 'c' : 3}\n",
    "\n",
    "print(a['c'])\n",
    "print(a.get('c'))\n",
    "\n",
    "if 'c' in a:\n",
    "    print(a['c'])"
   ]
  },
  {
   "cell_type": "markdown",
   "metadata": {},
   "source": [
    "## **모든 keys, values 접근**\n",
    "\n",
    "    + key() # 키만 반환\n",
    "    + values() - 값만 반환\n",
    "\n",
    "+ items() + 키, 값의 튜플을 반환"
   ]
  },
  {
   "cell_type": "code",
   "execution_count": 53,
   "metadata": {},
   "outputs": [
    {
     "name": "stdout",
     "output_type": "stream",
     "text": [
      "{'a': 1, 'b': 2, 'c': 3}\n",
      "['a', 'b', 'c']\n",
      "[1, 2, 3]\n"
     ]
    },
    {
     "data": {
      "text/plain": [
       "[('a', 1), ('b', 2), ('c', 3)]"
      ]
     },
     "execution_count": 53,
     "metadata": {},
     "output_type": "execute_result"
    }
   ],
   "source": [
    "a = {'a' : 1, 'b' : 2, 'c' : 3}\n",
    "\n",
    "print(a)\n",
    "\n",
    "print(list(a.keys()))\n",
    "print(list(a.values()))\n",
    "      \n",
    "list(a.items())"
   ]
  },
  {
   "cell_type": "markdown",
   "metadata": {},
   "source": [
    "## **set**\n",
    "    + dictionary 에서 key만 활용하는 데이터 구조로 이해\n",
    "    + 수학에서의 집합과 동일한 개념\n",
    "    + 중복값 제거\n",
    "    + 인덱스가 없음(= 순서가 없음)"
   ]
  },
  {
   "cell_type": "code",
   "execution_count": 44,
   "metadata": {},
   "outputs": [
    {
     "name": "stdout",
     "output_type": "stream",
     "text": [
      "{1, 2, 3, 4, 5, 6}\n"
     ]
    }
   ],
   "source": [
    "a = {1,2,3,4,5,6,1,1}\n",
    "print(a)"
   ]
  },
  {
   "cell_type": "markdown",
   "metadata": {},
   "source": [
    "## **set()으로 집합으로 변환**"
   ]
  },
  {
   "cell_type": "code",
   "execution_count": 58,
   "metadata": {},
   "outputs": [
    {
     "name": "stdout",
     "output_type": "stream",
     "text": [
      "[1, 1, 2, 3, 3, 4, 5, 5]\n",
      "{1, 2, 3, 4, 5}\n",
      "<class 'dict'>\n",
      "<class 'set'>\n"
     ]
    }
   ],
   "source": [
    "a = [1,1,2,3,3,4,5,5]\n",
    "print(a)\n",
    "\n",
    "b = set(a)\n",
    "print(b)\n",
    "\n",
    "# 비어있는 set을 설정\n",
    "c = {}\n",
    "print(type(c))\n",
    "\n",
    "d = set()\n",
    "print(type(d))"
   ]
  },
  {
   "cell_type": "markdown",
   "metadata": {},
   "source": [
    "* **set operations**\n",
    "    - 수학 연산과 동일\n",
    "    - 교집합, 합집합, 차집합등 지원"
   ]
  },
  {
   "cell_type": "code",
   "execution_count": 60,
   "metadata": {},
   "outputs": [
    {
     "name": "stdout",
     "output_type": "stream",
     "text": [
      "{1, 2, 3, 4}\n",
      "{2, 3}\n",
      "{1}\n",
      "False\n"
     ]
    }
   ],
   "source": [
    "a = {1, 2, 3}\n",
    "b = {2, 3, 4}\n",
    "\n",
    "print(a.union(b)) # 합집함\n",
    "print(a.intersection(b)) # 교집함\n",
    "print(a.difference(b)) # 차집합\n",
    "print(a.issubset(b)) # 부분 집합 집합(b)가 {1,2,3,4}이면 True 반환\n",
    "\n"
   ]
  }
 ],
 "metadata": {
  "kernelspec": {
   "display_name": "Python 3",
   "language": "python",
   "name": "python3"
  },
  "language_info": {
   "codemirror_mode": {
    "name": "ipython",
    "version": 3
   },
   "file_extension": ".py",
   "mimetype": "text/x-python",
   "name": "python",
   "nbconvert_exporter": "python",
   "pygments_lexer": "ipython3",
   "version": "3.7.6"
  }
 },
 "nbformat": 4,
 "nbformat_minor": 4
}
