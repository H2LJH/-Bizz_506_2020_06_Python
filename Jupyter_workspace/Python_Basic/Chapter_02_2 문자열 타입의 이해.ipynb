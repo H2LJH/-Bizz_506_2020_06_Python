{
 "cells": [
  {
   "cell_type": "markdown",
   "metadata": {},
   "source": [
    "### 학습 목표\n",
    "1. 문자열(str)타입 이해하기"
   ]
  },
  {
   "cell_type": "markdown",
   "metadata": {},
   "source": [
    "### string(문자열)\n",
    "- 복수개의 문자를 순서대로 나열 한 것\n",
    "- 문자열은 'A' OR \" A\" \n",
    "- 문자열 자체에 ', \"가 있는 경우에는 각각 그 반대의 기호로 생성"
   ]
  },
  {
   "cell_type": "markdown",
   "metadata": {},
   "source": [
    "### \" \" 사용하여 표현가능\n",
    "- 차이점\n",
    "- '' , \"\" // 한줄 문자열 표현\n",
    "- ''' ''' // 여러줄에 걸쳐 문자열 표현 가능\n",
    "- \"\"\" \"\"\" // 여러줄에 걸쳐 문자열 표현 가능"
   ]
  },
  {
   "cell_type": "code",
   "execution_count": 24,
   "metadata": {},
   "outputs": [
    {
     "name": "stdout",
     "output_type": "stream",
     "text": [
      " Test \n",
      " Python\n",
      "\n",
      "\n",
      "test\n",
      "test\n"
     ]
    }
   ],
   "source": [
    "a = \"\"\" Test \\n Python\"\"\"\n",
    "\n",
    "b = \"\"\"test\n",
    "test\"\"\"\n",
    "\n",
    "print(a)\n",
    "print(\"\\n\")\n",
    "print(b)"
   ]
  },
  {
   "cell_type": "markdown",
   "metadata": {},
   "source": [
    "### escape string\n",
    "- 문자열내의 일부 문자의 의미를 달리하여 `특정한 효과`를 주는 것\n",
    "- ex) `\\n`, `%d`"
   ]
  },
  {
   "cell_type": "markdown",
   "metadata": {},
   "source": [
    "### indexing & slicing string(문자열 인덱스 및 추출)\n",
    "- 문자열의 각 문자는 순서가 있음\n",
    "- 이때 각 문자열의 순서를 **인덱스** 라고 함\n",
    "- 첫번째 문자부터 마지막까지 차례대로의 **순서**를 가짐\n",
    "- 첫번째 시작문자의 순서는 **0**으로 시작"
   ]
  },
  {
   "cell_type": "code",
   "execution_count": 28,
   "metadata": {},
   "outputs": [
    {
     "name": "stdout",
     "output_type": "stream",
     "text": [
      "o\n"
     ]
    }
   ],
   "source": [
    "a = \"Hello Python\"\n",
    "print(a[10]) # 배열처럼 바로 인덱스 접근가능"
   ]
  },
  {
   "cell_type": "markdown",
   "metadata": {},
   "source": [
    "### index\n",
    "- 다른 언어와는 달리, Python의 경우 음수 index를 지원\n",
    "    - `-1 가장 마지막 index` \n",
    "    - `-2 마지막에서 두번째 index 의미`\n",
    "    \n",
    "    \n",
    "- index 범위\n",
    "    - 문자열의 길이 범위만 유효\n",
    "    - 음수 index를 사용할 경우 [-문자열 길이, -1] 넘어가면 에러 발생\n",
    "    \n",
    "    \n",
    "- 문자열 slicing     \n",
    "    - 인덱스가 하나의 문자만을 추출한다면,\n",
    "    -slicing은 부분 문자열을 추출한다고 볼 수 있음\n",
    "    -[시작:끝]와 같이 명시하여 [시작, 끝]에 해당하는 부분 문자열을 추출\n",
    "    -시작, 끝 인덱스가 생략이 되어 있다면, 0부터 혹은 끝까지로 간주\n",
    " "
   ]
  },
  {
   "cell_type": "code",
   "execution_count": 31,
   "metadata": {},
   "outputs": [
    {
     "data": {
      "text/plain": [
       "' Python'"
      ]
     },
     "execution_count": 31,
     "metadata": {},
     "output_type": "execute_result"
    }
   ],
   "source": [
    "a = \"Hello Python\"\n",
    "\n",
    "a[5]   # 5번 문자 1개만\n",
    "a[5:9] # 5번부터 8번 index 문자열\n",
    "a[:]   # 처음부터 마지막 index 문자열\n",
    "a[:9]  # 처음부터 8index 문자열\n",
    "a[5:]  # 5번부터 끝 index 문자열 "
   ]
  },
  {
   "cell_type": "markdown",
   "metadata": {},
   "source": [
    "### 문자열 함수"
   ]
  },
  {
   "cell_type": "markdown",
   "metadata": {},
   "source": [
    "* **replace**\n",
    "    - 문자열 내의 특정 문자를 치환"
   ]
  },
  {
   "cell_type": "code",
   "execution_count": 33,
   "metadata": {},
   "outputs": [
    {
     "data": {
      "text/plain": [
       "'jello World'"
      ]
     },
     "execution_count": 33,
     "metadata": {},
     "output_type": "execute_result"
    }
   ],
   "source": [
    "a = 'Hello World'\n",
    "a.replace('H','j')"
   ]
  },
  {
   "cell_type": "markdown",
   "metadata": {},
   "source": [
    "* **format**\n",
    "    - 문자열내의 특정한 값을 변수로부터 초기화 하여 동적으로 문자열을 생성"
   ]
  },
  {
   "cell_type": "code",
   "execution_count": 36,
   "metadata": {},
   "outputs": [
    {
     "name": "stdout",
     "output_type": "stream",
     "text": [
      "오늘 기온 25.5도 이고, 비올 확률을 80.0% 입니다.\n"
     ]
    }
   ],
   "source": [
    "temperature = 25.5\n",
    "prob = 80.0\n",
    "a = '오늘 기온 {}도 이고, 비올 확률을 {}% 입니다.'.format(temperature, prob)\n",
    "print(a)"
   ]
  },
  {
   "cell_type": "markdown",
   "metadata": {},
   "source": [
    "* **len**\n",
    "    -문자열의 길이를 계산"
   ]
  },
  {
   "cell_type": "code",
   "execution_count": 37,
   "metadata": {},
   "outputs": [
    {
     "name": "stdout",
     "output_type": "stream",
     "text": [
      "11\n"
     ]
    }
   ],
   "source": [
    "a = \"Hello World\"\n",
    "print(len(a))"
   ]
  },
  {
   "cell_type": "markdown",
   "metadata": {},
   "source": [
    "* **split**\n",
    "    -문자열을 특정한 문자 구분하여(delimiter) 문자열의 리스트로 치환"
   ]
  },
  {
   "cell_type": "code",
   "execution_count": 43,
   "metadata": {},
   "outputs": [
    {
     "data": {
      "text/plain": [
       "['Hello ', 'orld ', 'hat a nice ', 'eather']"
      ]
     },
     "execution_count": 43,
     "metadata": {},
     "output_type": "execute_result"
    }
   ],
   "source": [
    "a = 'Hello world what a nice weather'\n",
    "a.split('w') # Defalut 공백"
   ]
  }
 ],
 "metadata": {
  "kernelspec": {
   "display_name": "Python 3",
   "language": "python",
   "name": "python3"
  },
  "language_info": {
   "codemirror_mode": {
    "name": "ipython",
    "version": 3
   },
   "file_extension": ".py",
   "mimetype": "text/x-python",
   "name": "python",
   "nbconvert_exporter": "python",
   "pygments_lexer": "ipython3",
   "version": "3.7.6"
  }
 },
 "nbformat": 4,
 "nbformat_minor": 4
}
